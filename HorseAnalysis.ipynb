{
 "cells": [
  {
   "cell_type": "code",
   "execution_count": null,
   "metadata": {},
   "outputs": [],
   "source": [
    "#Alternate Data Sources: https://www.equibase.com/\n",
    "# http://horseracingdatasets.com/\n"
   ]
  },
  {
   "cell_type": "code",
   "execution_count": null,
   "metadata": {},
   "outputs": [],
   "source": [
    "# https://www.reddit.com/r/MachineLearning/comments/8jnzwt/d_horse_race_winner_prediction_89_precision_80/\n",
    "# https://www.youtube.com/watch?v=5gW0PO7g6pY\n",
    "# https://www.youtube.com/watch?v=6tQhoUuQrOw"
   ]
  },
  {
   "cell_type": "code",
   "execution_count": 1,
   "metadata": {},
   "outputs": [],
   "source": [
    "import pandas as pd\n",
    "import numpy as np\n",
    "import sklearn"
   ]
  },
  {
   "cell_type": "code",
   "execution_count": 2,
   "metadata": {},
   "outputs": [
    {
     "name": "stderr",
     "output_type": "stream",
     "text": [
      "c:\\users\\jeff\\appdata\\local\\programs\\python\\python35\\lib\\site-packages\\IPython\\core\\interactiveshell.py:2785: DtypeWarning: Columns (84) have mixed types. Specify dtype option on import or set low_memory=False.\n",
      "  interactivity=interactivity, compiler=compiler, result=result)\n"
     ]
    }
   ],
   "source": [
    "df_horses = pd.read_csv(\"horses.csv\")"
   ]
  },
  {
   "cell_type": "code",
   "execution_count": 3,
   "metadata": {},
   "outputs": [
    {
     "data": {
      "text/html": [
       "<div>\n",
       "<style scoped>\n",
       "    .dataframe tbody tr th:only-of-type {\n",
       "        vertical-align: middle;\n",
       "    }\n",
       "\n",
       "    .dataframe tbody tr th {\n",
       "        vertical-align: top;\n",
       "    }\n",
       "\n",
       "    .dataframe thead th {\n",
       "        text-align: right;\n",
       "    }\n",
       "</style>\n",
       "<table border=\"1\" class=\"dataframe\">\n",
       "  <thead>\n",
       "    <tr style=\"text-align: right;\">\n",
       "      <th></th>\n",
       "      <th>R</th>\n",
       "      <th>TB</th>\n",
       "      <th>AQU</th>\n",
       "      <th>20181114</th>\n",
       "      <th>1</th>\n",
       "      <th>D</th>\n",
       "      <th>Claiming</th>\n",
       "      <th>36000</th>\n",
       "      <th>FOR THREE YEAR OLDS AND UPWARD WHICH HAVE NEVER WON TWO RACES. Three Year Olds, 120 lbs.; Older, 123 lbs. Non-winners of a</th>\n",
       "      <th>race at a mile or over since May 1 Allowed 2 lbs. Claiming Price $25,000.</th>\n",
       "      <th>...</th>\n",
       "      <th>Unnamed: 76</th>\n",
       "      <th>0.10</th>\n",
       "      <th>0.11</th>\n",
       "      <th>Unnamed: 79</th>\n",
       "      <th>Unnamed: 80</th>\n",
       "      <th>0.12</th>\n",
       "      <th>0.13</th>\n",
       "      <th>MAGNETRON;25000;  Windy Lea Farms,Bruce Brown;</th>\n",
       "      <th>Unnamed: 84</th>\n",
       "      <th>0.14</th>\n",
       "    </tr>\n",
       "  </thead>\n",
       "  <tbody>\n",
       "    <tr>\n",
       "      <th>0</th>\n",
       "      <td>H</td>\n",
       "      <td>AQU</td>\n",
       "      <td>20181114</td>\n",
       "      <td>1.0</td>\n",
       "      <td>D</td>\n",
       "      <td>26Oct18  9BEL12</td>\n",
       "      <td>TB</td>\n",
       "      <td>Won't Be Missed</td>\n",
       "      <td>110</td>\n",
       "      <td>3</td>\n",
       "      <td>...</td>\n",
       "      <td>NaN</td>\n",
       "      <td>NaN</td>\n",
       "      <td>NaN</td>\n",
       "      <td>NaN</td>\n",
       "      <td>NaN</td>\n",
       "      <td>NaN</td>\n",
       "      <td>NaN</td>\n",
       "      <td>NaN</td>\n",
       "      <td>NaN</td>\n",
       "      <td>NaN</td>\n",
       "    </tr>\n",
       "    <tr>\n",
       "      <th>1</th>\n",
       "      <td>H</td>\n",
       "      <td>AQU</td>\n",
       "      <td>20181114</td>\n",
       "      <td>1.0</td>\n",
       "      <td>D</td>\n",
       "      <td>22Sep18 12PRX 6</td>\n",
       "      <td>TB</td>\n",
       "      <td>Purchasing Power</td>\n",
       "      <td>120</td>\n",
       "      <td>3</td>\n",
       "      <td>...</td>\n",
       "      <td>NaN</td>\n",
       "      <td>NaN</td>\n",
       "      <td>NaN</td>\n",
       "      <td>NaN</td>\n",
       "      <td>NaN</td>\n",
       "      <td>NaN</td>\n",
       "      <td>NaN</td>\n",
       "      <td>NaN</td>\n",
       "      <td>NaN</td>\n",
       "      <td>NaN</td>\n",
       "    </tr>\n",
       "    <tr>\n",
       "      <th>2</th>\n",
       "      <td>H</td>\n",
       "      <td>AQU</td>\n",
       "      <td>20181114</td>\n",
       "      <td>1.0</td>\n",
       "      <td>D</td>\n",
       "      <td>14Oct18  6BEL 6</td>\n",
       "      <td>TB</td>\n",
       "      <td>Malibu Strings</td>\n",
       "      <td>118</td>\n",
       "      <td>3</td>\n",
       "      <td>...</td>\n",
       "      <td>NaN</td>\n",
       "      <td>NaN</td>\n",
       "      <td>NaN</td>\n",
       "      <td>NaN</td>\n",
       "      <td>NaN</td>\n",
       "      <td>NaN</td>\n",
       "      <td>NaN</td>\n",
       "      <td>NaN</td>\n",
       "      <td>NaN</td>\n",
       "      <td>NaN</td>\n",
       "    </tr>\n",
       "    <tr>\n",
       "      <th>3</th>\n",
       "      <td>H</td>\n",
       "      <td>AQU</td>\n",
       "      <td>20181114</td>\n",
       "      <td>1.0</td>\n",
       "      <td>D</td>\n",
       "      <td>13Oct18  3BEL 1</td>\n",
       "      <td>TB</td>\n",
       "      <td>Magnetron</td>\n",
       "      <td>120</td>\n",
       "      <td>3</td>\n",
       "      <td>...</td>\n",
       "      <td>NaN</td>\n",
       "      <td>NaN</td>\n",
       "      <td>NaN</td>\n",
       "      <td>NaN</td>\n",
       "      <td>NaN</td>\n",
       "      <td>NaN</td>\n",
       "      <td>NaN</td>\n",
       "      <td>NaN</td>\n",
       "      <td>NaN</td>\n",
       "      <td>NaN</td>\n",
       "    </tr>\n",
       "    <tr>\n",
       "      <th>4</th>\n",
       "      <td>H</td>\n",
       "      <td>AQU</td>\n",
       "      <td>20181114</td>\n",
       "      <td>1.0</td>\n",
       "      <td>D</td>\n",
       "      <td>30Sep18  4PRX 6</td>\n",
       "      <td>TB</td>\n",
       "      <td>Incubator</td>\n",
       "      <td>118</td>\n",
       "      <td>3</td>\n",
       "      <td>...</td>\n",
       "      <td>NaN</td>\n",
       "      <td>NaN</td>\n",
       "      <td>NaN</td>\n",
       "      <td>NaN</td>\n",
       "      <td>NaN</td>\n",
       "      <td>NaN</td>\n",
       "      <td>NaN</td>\n",
       "      <td>NaN</td>\n",
       "      <td>NaN</td>\n",
       "      <td>NaN</td>\n",
       "    </tr>\n",
       "  </tbody>\n",
       "</table>\n",
       "<p>5 rows × 86 columns</p>\n",
       "</div>"
      ],
      "text/plain": [
       "   R   TB       AQU  20181114  1                D Claiming             36000  \\\n",
       "0  H  AQU  20181114       1.0  D  26Oct18  9BEL12       TB   Won't Be Missed   \n",
       "1  H  AQU  20181114       1.0  D  22Sep18 12PRX 6       TB  Purchasing Power   \n",
       "2  H  AQU  20181114       1.0  D  14Oct18  6BEL 6       TB    Malibu Strings   \n",
       "3  H  AQU  20181114       1.0  D  13Oct18  3BEL 1       TB         Magnetron   \n",
       "4  H  AQU  20181114       1.0  D  30Sep18  4PRX 6       TB         Incubator   \n",
       "\n",
       "  FOR THREE YEAR OLDS AND UPWARD WHICH HAVE NEVER WON TWO RACES. Three Year Olds, 120 lbs.; Older, 123 lbs. Non-winners of a   \\\n",
       "0                                                110                                                                            \n",
       "1                                                120                                                                            \n",
       "2                                                118                                                                            \n",
       "3                                                120                                                                            \n",
       "4                                                118                                                                            \n",
       "\n",
       "  race at a mile or over since May 1 Allowed 2 lbs. Claiming Price $25,000.  \\\n",
       "0                                                  3                          \n",
       "1                                                  3                          \n",
       "2                                                  3                          \n",
       "3                                                  3                          \n",
       "4                                                  3                          \n",
       "\n",
       "  ...  Unnamed: 76 0.10 0.11  Unnamed: 79 Unnamed: 80 0.12 0.13  \\\n",
       "0 ...          NaN  NaN  NaN          NaN         NaN  NaN  NaN   \n",
       "1 ...          NaN  NaN  NaN          NaN         NaN  NaN  NaN   \n",
       "2 ...          NaN  NaN  NaN          NaN         NaN  NaN  NaN   \n",
       "3 ...          NaN  NaN  NaN          NaN         NaN  NaN  NaN   \n",
       "4 ...          NaN  NaN  NaN          NaN         NaN  NaN  NaN   \n",
       "\n",
       "   MAGNETRON;25000;  Windy Lea Farms,Bruce Brown; Unnamed: 84 0.14  \n",
       "0                                             NaN         NaN  NaN  \n",
       "1                                             NaN         NaN  NaN  \n",
       "2                                             NaN         NaN  NaN  \n",
       "3                                             NaN         NaN  NaN  \n",
       "4                                             NaN         NaN  NaN  \n",
       "\n",
       "[5 rows x 86 columns]"
      ]
     },
     "execution_count": 3,
     "metadata": {},
     "output_type": "execute_result"
    }
   ],
   "source": [
    "df_horses.head()\n",
    "# What is the target column, what are we trying to predict? \n",
    "# Every row is a horse, es"
   ]
  },
  {
   "cell_type": "code",
   "execution_count": 4,
   "metadata": {},
   "outputs": [
    {
     "data": {
      "text/plain": [
       "(221680, 108)"
      ]
     },
     "execution_count": 4,
     "metadata": {},
     "output_type": "execute_result"
    }
   ],
   "source": [
    "df_horses.shape"
   ]
  },
  {
   "cell_type": "code",
   "execution_count": 5,
   "metadata": {},
   "outputs": [],
   "source": [
    "df_horses = df_horses.dropna()"
   ]
  },
  {
   "cell_type": "code",
   "execution_count": 6,
   "metadata": {},
   "outputs": [
    {
     "data": {
      "text/html": [
       "<div>\n",
       "<style scoped>\n",
       "    .dataframe tbody tr th:only-of-type {\n",
       "        vertical-align: middle;\n",
       "    }\n",
       "\n",
       "    .dataframe tbody tr th {\n",
       "        vertical-align: top;\n",
       "    }\n",
       "\n",
       "    .dataframe thead th {\n",
       "        text-align: right;\n",
       "    }\n",
       "</style>\n",
       "<table border=\"1\" class=\"dataframe\">\n",
       "  <thead>\n",
       "    <tr style=\"text-align: right;\">\n",
       "      <th></th>\n",
       "      <th>previous_margin</th>\n",
       "      <th>position</th>\n",
       "      <th>position_again</th>\n",
       "      <th>position_two</th>\n",
       "      <th>margin</th>\n",
       "      <th>bf_odds</th>\n",
       "      <th>bf_odds_two_mins_out</th>\n",
       "      <th>bf_odds_all</th>\n",
       "      <th>vic_tote</th>\n",
       "      <th>vic_tote_two_mins_out</th>\n",
       "      <th>...</th>\n",
       "      <th>class_stronger_places</th>\n",
       "      <th>first_up_starts</th>\n",
       "      <th>first_up_wins</th>\n",
       "      <th>first_up_places</th>\n",
       "      <th>second_up_starts</th>\n",
       "      <th>second_up_wins</th>\n",
       "      <th>second_up_places</th>\n",
       "      <th>track_distance_starts</th>\n",
       "      <th>track_distance_wins</th>\n",
       "      <th>track_distance_places</th>\n",
       "    </tr>\n",
       "  </thead>\n",
       "  <tbody>\n",
       "    <tr>\n",
       "      <th>0</th>\n",
       "      <td>6.8</td>\n",
       "      <td>1</td>\n",
       "      <td>1.0</td>\n",
       "      <td>1.0</td>\n",
       "      <td>0.0</td>\n",
       "      <td>2.88</td>\n",
       "      <td>3.0</td>\n",
       "      <td>{3.25,3.05,3.0,2.92,2.88}</td>\n",
       "      <td>2.3</td>\n",
       "      <td>3.5</td>\n",
       "      <td>...</td>\n",
       "      <td>0.0</td>\n",
       "      <td>1.0</td>\n",
       "      <td>0.0</td>\n",
       "      <td>1.0</td>\n",
       "      <td>0.0</td>\n",
       "      <td>0.0</td>\n",
       "      <td>0.0</td>\n",
       "      <td>0.0</td>\n",
       "      <td>0.0</td>\n",
       "      <td>0.0</td>\n",
       "    </tr>\n",
       "    <tr>\n",
       "      <th>51</th>\n",
       "      <td>0.0</td>\n",
       "      <td>1</td>\n",
       "      <td>1.0</td>\n",
       "      <td>1.0</td>\n",
       "      <td>0.0</td>\n",
       "      <td>4.90</td>\n",
       "      <td>5.3</td>\n",
       "      <td>{5.8,5.9,5.9,5.8,5.6,5.3,5.2,5.3,4.9,4.9}</td>\n",
       "      <td>3.6</td>\n",
       "      <td>4.8</td>\n",
       "      <td>...</td>\n",
       "      <td>2.0</td>\n",
       "      <td>5.0</td>\n",
       "      <td>1.0</td>\n",
       "      <td>3.0</td>\n",
       "      <td>5.0</td>\n",
       "      <td>1.0</td>\n",
       "      <td>2.0</td>\n",
       "      <td>4.0</td>\n",
       "      <td>2.0</td>\n",
       "      <td>1.0</td>\n",
       "    </tr>\n",
       "    <tr>\n",
       "      <th>65</th>\n",
       "      <td>5.5</td>\n",
       "      <td>1</td>\n",
       "      <td>1.0</td>\n",
       "      <td>1.0</td>\n",
       "      <td>0.0</td>\n",
       "      <td>5.00</td>\n",
       "      <td>4.1</td>\n",
       "      <td>{4.6,4.5,4.5,4.6,4.7,4.7,5.1,4.1,4.8,5.0}</td>\n",
       "      <td>4.4</td>\n",
       "      <td>5.4</td>\n",
       "      <td>...</td>\n",
       "      <td>2.0</td>\n",
       "      <td>7.0</td>\n",
       "      <td>0.0</td>\n",
       "      <td>2.0</td>\n",
       "      <td>6.0</td>\n",
       "      <td>0.0</td>\n",
       "      <td>1.0</td>\n",
       "      <td>2.0</td>\n",
       "      <td>2.0</td>\n",
       "      <td>0.0</td>\n",
       "    </tr>\n",
       "    <tr>\n",
       "      <th>73</th>\n",
       "      <td>5.9</td>\n",
       "      <td>1</td>\n",
       "      <td>1.0</td>\n",
       "      <td>1.0</td>\n",
       "      <td>0.0</td>\n",
       "      <td>8.80</td>\n",
       "      <td>7.8</td>\n",
       "      <td>{5.4,5.4,6.2,8.0,8.4,8.0,8.0,7.8,8.6,8.8}</td>\n",
       "      <td>8.3</td>\n",
       "      <td>5.9</td>\n",
       "      <td>...</td>\n",
       "      <td>2.0</td>\n",
       "      <td>3.0</td>\n",
       "      <td>2.0</td>\n",
       "      <td>1.0</td>\n",
       "      <td>3.0</td>\n",
       "      <td>1.0</td>\n",
       "      <td>1.0</td>\n",
       "      <td>0.0</td>\n",
       "      <td>0.0</td>\n",
       "      <td>0.0</td>\n",
       "    </tr>\n",
       "    <tr>\n",
       "      <th>151</th>\n",
       "      <td>5.6</td>\n",
       "      <td>1</td>\n",
       "      <td>1.0</td>\n",
       "      <td>1.0</td>\n",
       "      <td>0.0</td>\n",
       "      <td>21.00</td>\n",
       "      <td>18.0</td>\n",
       "      <td>{12.5,13.0,13.5,17.0,15.0,15.5,17.5,18.0,19.5,...</td>\n",
       "      <td>10.8</td>\n",
       "      <td>10.9</td>\n",
       "      <td>...</td>\n",
       "      <td>0.0</td>\n",
       "      <td>2.0</td>\n",
       "      <td>1.0</td>\n",
       "      <td>0.0</td>\n",
       "      <td>2.0</td>\n",
       "      <td>0.0</td>\n",
       "      <td>0.0</td>\n",
       "      <td>2.0</td>\n",
       "      <td>0.0</td>\n",
       "      <td>1.0</td>\n",
       "    </tr>\n",
       "  </tbody>\n",
       "</table>\n",
       "<p>5 rows × 108 columns</p>\n",
       "</div>"
      ],
      "text/plain": [
       "     previous_margin  position  position_again  position_two  margin  bf_odds  \\\n",
       "0                6.8         1             1.0           1.0     0.0     2.88   \n",
       "51               0.0         1             1.0           1.0     0.0     4.90   \n",
       "65               5.5         1             1.0           1.0     0.0     5.00   \n",
       "73               5.9         1             1.0           1.0     0.0     8.80   \n",
       "151              5.6         1             1.0           1.0     0.0    21.00   \n",
       "\n",
       "     bf_odds_two_mins_out                                        bf_odds_all  \\\n",
       "0                     3.0                          {3.25,3.05,3.0,2.92,2.88}   \n",
       "51                    5.3          {5.8,5.9,5.9,5.8,5.6,5.3,5.2,5.3,4.9,4.9}   \n",
       "65                    4.1          {4.6,4.5,4.5,4.6,4.7,4.7,5.1,4.1,4.8,5.0}   \n",
       "73                    7.8          {5.4,5.4,6.2,8.0,8.4,8.0,8.0,7.8,8.6,8.8}   \n",
       "151                  18.0  {12.5,13.0,13.5,17.0,15.0,15.5,17.5,18.0,19.5,...   \n",
       "\n",
       "     vic_tote  vic_tote_two_mins_out          ...           \\\n",
       "0         2.3                    3.5          ...            \n",
       "51        3.6                    4.8          ...            \n",
       "65        4.4                    5.4          ...            \n",
       "73        8.3                    5.9          ...            \n",
       "151      10.8                   10.9          ...            \n",
       "\n",
       "    class_stronger_places  first_up_starts  first_up_wins first_up_places  \\\n",
       "0                     0.0              1.0            0.0             1.0   \n",
       "51                    2.0              5.0            1.0             3.0   \n",
       "65                    2.0              7.0            0.0             2.0   \n",
       "73                    2.0              3.0            2.0             1.0   \n",
       "151                   0.0              2.0            1.0             0.0   \n",
       "\n",
       "     second_up_starts  second_up_wins  second_up_places  \\\n",
       "0                 0.0             0.0               0.0   \n",
       "51                5.0             1.0               2.0   \n",
       "65                6.0             0.0               1.0   \n",
       "73                3.0             1.0               1.0   \n",
       "151               2.0             0.0               0.0   \n",
       "\n",
       "     track_distance_starts  track_distance_wins track_distance_places  \n",
       "0                      0.0                  0.0                   0.0  \n",
       "51                     4.0                  2.0                   1.0  \n",
       "65                     2.0                  2.0                   0.0  \n",
       "73                     0.0                  0.0                   0.0  \n",
       "151                    2.0                  0.0                   1.0  \n",
       "\n",
       "[5 rows x 108 columns]"
      ]
     },
     "execution_count": 6,
     "metadata": {},
     "output_type": "execute_result"
    }
   ],
   "source": [
    "df_horses.head()"
   ]
  },
  {
   "cell_type": "code",
   "execution_count": 7,
   "metadata": {},
   "outputs": [],
   "source": [
    "df_min = df_horses[['position','condition', 'runner_id', 'barrier', 'sex']]"
   ]
  },
  {
   "cell_type": "code",
   "execution_count": 8,
   "metadata": {},
   "outputs": [
    {
     "data": {
      "text/html": [
       "<div>\n",
       "<style scoped>\n",
       "    .dataframe tbody tr th:only-of-type {\n",
       "        vertical-align: middle;\n",
       "    }\n",
       "\n",
       "    .dataframe tbody tr th {\n",
       "        vertical-align: top;\n",
       "    }\n",
       "\n",
       "    .dataframe thead th {\n",
       "        text-align: right;\n",
       "    }\n",
       "</style>\n",
       "<table border=\"1\" class=\"dataframe\">\n",
       "  <thead>\n",
       "    <tr style=\"text-align: right;\">\n",
       "      <th></th>\n",
       "      <th>position</th>\n",
       "      <th>condition</th>\n",
       "      <th>runner_id</th>\n",
       "      <th>barrier</th>\n",
       "      <th>sex</th>\n",
       "    </tr>\n",
       "  </thead>\n",
       "  <tbody>\n",
       "    <tr>\n",
       "      <th>0</th>\n",
       "      <td>1</td>\n",
       "      <td>HVY9</td>\n",
       "      <td>2</td>\n",
       "      <td>3.0</td>\n",
       "      <td>Gelding</td>\n",
       "    </tr>\n",
       "    <tr>\n",
       "      <th>51</th>\n",
       "      <td>1</td>\n",
       "      <td>HVY10</td>\n",
       "      <td>77</td>\n",
       "      <td>4.0</td>\n",
       "      <td>Gelding</td>\n",
       "    </tr>\n",
       "    <tr>\n",
       "      <th>65</th>\n",
       "      <td>1</td>\n",
       "      <td>HVY10</td>\n",
       "      <td>92</td>\n",
       "      <td>6.0</td>\n",
       "      <td>Gelding</td>\n",
       "    </tr>\n",
       "    <tr>\n",
       "      <th>73</th>\n",
       "      <td>1</td>\n",
       "      <td>HVY9</td>\n",
       "      <td>110</td>\n",
       "      <td>2.0</td>\n",
       "      <td>Gelding</td>\n",
       "    </tr>\n",
       "    <tr>\n",
       "      <th>151</th>\n",
       "      <td>1</td>\n",
       "      <td>GOOD4</td>\n",
       "      <td>444</td>\n",
       "      <td>3.0</td>\n",
       "      <td>Mare</td>\n",
       "    </tr>\n",
       "  </tbody>\n",
       "</table>\n",
       "</div>"
      ],
      "text/plain": [
       "     position condition  runner_id  barrier      sex\n",
       "0           1      HVY9          2      3.0  Gelding\n",
       "51          1     HVY10         77      4.0  Gelding\n",
       "65          1     HVY10         92      6.0  Gelding\n",
       "73          1      HVY9        110      2.0  Gelding\n",
       "151         1     GOOD4        444      3.0     Mare"
      ]
     },
     "execution_count": 8,
     "metadata": {},
     "output_type": "execute_result"
    }
   ],
   "source": [
    "df_min.head()"
   ]
  },
  {
   "cell_type": "code",
   "execution_count": 11,
   "metadata": {},
   "outputs": [],
   "source": [
    "df_min.head()\n",
    "#Get target column\n",
    "target_df = df_min['position']\n",
    "df_min = df_min.drop('position', 1)"
   ]
  },
  {
   "cell_type": "code",
   "execution_count": 12,
   "metadata": {},
   "outputs": [],
   "source": [
    "features_final = pd.get_dummies(df_min)"
   ]
  },
  {
   "cell_type": "code",
   "execution_count": 13,
   "metadata": {},
   "outputs": [
    {
     "data": {
      "text/plain": [
       "(27367, 20)"
      ]
     },
     "execution_count": 13,
     "metadata": {},
     "output_type": "execute_result"
    }
   ],
   "source": [
    "features_final.shape\n"
   ]
  },
  {
   "cell_type": "code",
   "execution_count": 14,
   "metadata": {},
   "outputs": [],
   "source": [
    "from sklearn.model_selection import train_test_split\n",
    "# Parameters are features, target, split ratio, random seed\n",
    "X_train, X_test, y_train, y_test = train_test_split(features_final, target_df ,test_size=0.20, random_state=42)"
   ]
  },
  {
   "cell_type": "code",
   "execution_count": 22,
   "metadata": {},
   "outputs": [
    {
     "name": "stdout",
     "output_type": "stream",
     "text": [
      "Training set has 21893 samples.\n",
      "Testing set has 5474 samples.\n"
     ]
    }
   ],
   "source": [
    "# Show the results of the split\n",
    "print(\"Training set has {} samples.\".format(X_train.shape[0]))\n",
    "print(\"Testing set has {} samples.\".format(X_test.shape[0]))"
   ]
  },
  {
   "cell_type": "code",
   "execution_count": 35,
   "metadata": {},
   "outputs": [],
   "source": [
    "from sklearn.ensemble import RandomForestClassifier\n",
    "\n",
    "\n",
    "clf = RandomForestClassifier(n_estimators=100, max_depth=10, random_state=0)\n"
   ]
  },
  {
   "cell_type": "code",
   "execution_count": 40,
   "metadata": {},
   "outputs": [],
   "source": [
    "from sklearn.metrics import fbeta_score, accuracy_score\n",
    "from time import time\n",
    "def train_predict(learner, sample_size, X_train, y_train, X_test, y_test): \n",
    "    '''\n",
    "    inputs:\n",
    "       - learner: the learning algorithm to be trained and predicted on\n",
    "       - sample_size: the size of samples (number) to be drawn from training set\n",
    "       - X_train: features training set\n",
    "       - y_train: income training set\n",
    "       - X_test: features testing set\n",
    "       - y_test: income testing set\n",
    "    '''\n",
    "    \n",
    "    results = {}\n",
    "    \n",
    "    # TODO: Fit the learner to the training data using slicing with 'sample_size' using .fit(training_features[:], training_labels[:])\n",
    "    start = time() # Get start time\n",
    "    learner.fit(X_train[:sample_size], y_train[:sample_size])\n",
    "    end = time() # Get end time\n",
    "    \n",
    "    # TODO: Calculate the training time\n",
    "    results['train_time'] = end-start\n",
    "        \n",
    "    # TODO: Get the predictions on the test set(X_test),\n",
    "    #       then get predictions on the first 300 training samples(X_train) using .predict()\n",
    "    start = time() # Get start time\n",
    "    predictions_test = learner.predict(X_test)\n",
    "    predictions_train = learner.predict(X_train[:300])\n",
    "    end = time() # Get end time\n",
    "    \n",
    "    #print (type(predictions_test))\n",
    "    #print (predictions_train)\n",
    "    # TODO: Calculate the total prediction time\n",
    "    results['pred_time'] = end - start\n",
    "    \n",
    "    # TODO: Compute accuracy on the first 300 training samples which is y_train[:300]\n",
    "    results['acc_train'] = accuracy_score(y_train[:300], predictions_train)\n",
    "        \n",
    "    # TODO: Compute accuracy on test set using accuracy_score()\n",
    "    results['acc_test'] = accuracy_score(y_test, predictions_test)\n",
    "    \n",
    "    # TODO: Compute F-score on the the first 300 training samples using fbeta_score()\n",
    "    results['f_train'] = fbeta_score(y_train[:300], predictions_train, 0.5)\n",
    "        \n",
    "    # TODO: Compute F-score on the test set which is y_test\n",
    "    # 3rd param is Beta\n",
    "    results['f_test'] = fbeta_score(y_test, predictions_test, 0.5)\n",
    "       \n",
    "    # Success\n",
    "    print(\"{} trained on {} samples.\".format(learner.__class__.__name__, sample_size))\n",
    "        \n",
    "    # Return the results\n",
    "    return results\n"
   ]
  },
  {
   "cell_type": "code",
   "execution_count": 42,
   "metadata": {},
   "outputs": [
    {
     "name": "stdout",
     "output_type": "stream",
     "text": [
      "RandomForestClassifier trained on 21893 samples.\n"
     ]
    },
    {
     "data": {
      "text/plain": [
       "{'acc_test': 0.68012422360248448,\n",
       " 'acc_train': 0.70666666666666667,\n",
       " 'f_test': 0.63316993464052296,\n",
       " 'f_train': 0.68904593639575973,\n",
       " 'pred_time': 0.06996011734008789,\n",
       " 'train_time': 0.945467472076416}"
      ]
     },
     "execution_count": 42,
     "metadata": {},
     "output_type": "execute_result"
    }
   ],
   "source": [
    "#print(y_train.size)\n",
    "samples_100 = y_train.size\n",
    "train_predict(clf, samples_100, X_train, y_train, X_test, y_test)"
   ]
  },
  {
   "cell_type": "code",
   "execution_count": 44,
   "metadata": {},
   "outputs": [],
   "source": [
    "#Feature importance\n",
    "model = clf.fit(X_train[:samples_100], y_train[:samples_100])"
   ]
  },
  {
   "cell_type": "code",
   "execution_count": 45,
   "metadata": {},
   "outputs": [],
   "source": [
    "importances = model.feature_importances_"
   ]
  },
  {
   "cell_type": "code",
   "execution_count": 46,
   "metadata": {},
   "outputs": [
    {
     "data": {
      "text/plain": [
       "array([  9.04494112e-01,   5.26681630e-02,   3.06971255e-03,\n",
       "         7.46674341e-04,   6.48308288e-04,   4.80156892e-03,\n",
       "         4.58022761e-03,   2.37110896e-05,   4.12544144e-03,\n",
       "         2.13878854e-03,   1.50566884e-03,   2.15269109e-03,\n",
       "         1.26949341e-03,   2.50399204e-03,   2.33202587e-03,\n",
       "         2.89862317e-03,   3.40797876e-03,   2.19790126e-03,\n",
       "         4.38888255e-03,   4.60354735e-05])"
      ]
     },
     "execution_count": 46,
     "metadata": {},
     "output_type": "execute_result"
    }
   ],
   "source": [
    "importances"
   ]
  },
  {
   "cell_type": "code",
   "execution_count": null,
   "metadata": {},
   "outputs": [],
   "source": [
    "#Scatter Matrix"
   ]
  }
 ],
 "metadata": {
  "kernelspec": {
   "display_name": "Python 3",
   "language": "python",
   "name": "python3"
  },
  "language_info": {
   "codemirror_mode": {
    "name": "ipython",
    "version": 3
   },
   "file_extension": ".py",
   "mimetype": "text/x-python",
   "name": "python",
   "nbconvert_exporter": "python",
   "pygments_lexer": "ipython3",
   "version": "3.5.0"
  }
 },
 "nbformat": 4,
 "nbformat_minor": 2
}
